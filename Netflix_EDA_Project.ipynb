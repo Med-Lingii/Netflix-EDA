{
  "nbformat": 4,
  "nbformat_minor": 0,
  "metadata": {
    "colab": {
      "private_outputs": true,
      "provenance": [],
      "authorship_tag": "ABX9TyOpDbhfsSZSRItkiIvjzEJp",
      "include_colab_link": true
    },
    "kernelspec": {
      "name": "python3",
      "display_name": "Python 3"
    },
    "language_info": {
      "name": "python"
    }
  },
  "cells": [
    {
      "cell_type": "markdown",
      "metadata": {
        "id": "view-in-github",
        "colab_type": "text"
      },
      "source": [
        "<a href=\"https://colab.research.google.com/github/Med-Lingii/Netflix-EDA/blob/main/Netflix_EDA_Project.ipynb\" target=\"_parent\"><img src=\"https://colab.research.google.com/assets/colab-badge.svg\" alt=\"Open In Colab\"/></a>"
      ]
    },
    {
      "cell_type": "markdown",
      "source": [
        "# **Project Name**    - Clustering and Exploratory Analysis of Netflix Movies and TV Shows\n",
        "\n"
      ],
      "metadata": {
        "id": "vncDsAP0Gaoa"
      }
    },
    {
      "cell_type": "markdown",
      "source": [
        "##### **Project Type**    - EDA\n",
        "##### **Contribution**    - Individual\n",
        "##### **Name**  - Lingeshwaran S"
      ],
      "metadata": {
        "id": "beRrZCGUAJYm"
      }
    },
    {
      "cell_type": "markdown",
      "source": [
        "# **Project Summary -**"
      ],
      "metadata": {
        "id": "FJNUwmbgGyua"
      }
    },
    {
      "cell_type": "markdown",
      "source": [
        "In the era of digital entertainment, streaming services like Netflix have transformed how audiences consume media. With a vast and ever-expanding library of movies and TV shows spanning various genres, languages, and countries, organizing and recommending content effectively poses a significant challenge. Netflix’s success partially relies on its ability to deliver personalized and relevant content to users, which in turn depends on understanding the structure and patterns in its content library.\n",
        "\n",
        "This project undertakes a comprehensive Exploratory Data Analysis (EDA) on a dataset of Netflix titles to uncover insights about the content types, trends over time, genre distributions, and geographic origins. In addition to the exploratory analysis, clustering techniques are employed to group similar shows and movies together, paving the way for better categorization and potential improvements in content recommendation systems.\n",
        "\n"
      ],
      "metadata": {
        "id": "F6v_1wHtG2nS"
      }
    },
    {
      "cell_type": "markdown",
      "source": [
        "# **GitHub Link -**"
      ],
      "metadata": {
        "id": "w6K7xa23Elo4"
      }
    },
    {
      "cell_type": "markdown",
      "source": [
        "🔗 **GitHub Repository**: Netflix EDA Github Link"
      ],
      "metadata": {
        "id": "h1o69JH3Eqqn"
      }
    },
    {
      "cell_type": "markdown",
      "source": [
        "# **Problem Statement**\n"
      ],
      "metadata": {
        "id": "yQaldy8SH6Dl"
      }
    },
    {
      "cell_type": "markdown",
      "source": [
        "“Netflix has a large, diverse catalog of media content. However, identifying patterns across different titles and grouping similar content together is essential to improve discoverability and enhance user experience. The goal of this project is to explore Netflix’s content library, analyze key features, and apply clustering algorithms to group similar movies and TV shows based on metadata such as genre, duration, description, and other features.”\n",
        "\n"
      ],
      "metadata": {
        "id": "DpeJGUA3kjGy"
      }
    },
    {
      "cell_type": "markdown",
      "source": [
        "#### **Define Your Business Objective?**"
      ],
      "metadata": {
        "id": "PH-0ReGfmX4f"
      }
    },
    {
      "cell_type": "markdown",
      "source": [
        "The primary business objective of this project is to enhance Netflix’s content recommendation system and content strategy through data-driven insights. With a vast and diverse media library, users often face difficulty discovering content they truly enjoy. By performing exploratory data analysis (EDA) and applying clustering techniques, this project aims to identify patterns, group similar content, and reveal hidden relationships within the catalog.\n",
        "\n",
        "These insights help Netflix:\n",
        "\n",
        "Improve content discoverability, reducing user drop-off from decision fatigue.\n",
        "\n",
        "Increase engagement and retention through smarter, more relevant recommendations.\n",
        "\n",
        "Inform acquisition and production strategies by identifying trending genres, underrepresented content, and geographic content gaps.\n",
        "\n",
        "Segment the content library to support targeted marketing, personalization, and UI optimization.\n",
        "\n",
        "Ultimately, this project empowers Netflix to deliver a more personalized viewing experience, strengthen its competitive edge, and make strategic business decisions rooted in audience and content intelligence."
      ],
      "metadata": {
        "id": "PhDvGCAqmjP1"
      }
    },
    {
      "cell_type": "markdown",
      "source": [
        "# **General Guidelines** : -  "
      ],
      "metadata": {
        "id": "mDgbUHAGgjLW"
      }
    },
    {
      "cell_type": "markdown",
      "source": [
        "1.   Well-structured, formatted, and commented code is required.\n",
        "2.   Exception Handling, Production Grade Code & Deployment Ready Code will be a plus. Those students will be awarded some additional credits.\n",
        "     \n",
        "     The additional credits will have advantages over other students during Star Student selection.\n",
        "       \n",
        "             [ Note: - Deployment Ready Code is defined as, the whole .ipynb notebook should be executable in one go\n",
        "                       without a single error logged. ]\n",
        "\n",
        "3.   Each and every logic should have proper comments.\n",
        "4. You may add as many number of charts you want. Make Sure for each and every chart the following format should be answered.\n",
        "        \n",
        "\n",
        "```\n",
        "# Chart visualization code\n",
        "```\n",
        "            \n",
        "\n",
        "*   Why did you pick the specific chart?\n",
        "*   What is/are the insight(s) found from the chart?\n",
        "* Will the gained insights help creating a positive business impact?\n",
        "Are there any insights that lead to negative growth? Justify with specific reason.\n",
        "\n",
        "5. You have to create at least 20 logical & meaningful charts having important insights.\n",
        "\n",
        "\n",
        "[ Hints : - Do the Vizualization in  a structured way while following \"UBM\" Rule.\n",
        "\n",
        "U - Univariate Analysis,\n",
        "\n",
        "B - Bivariate Analysis (Numerical - Categorical, Numerical - Numerical, Categorical - Categorical)\n",
        "\n",
        "M - Multivariate Analysis\n",
        " ]\n",
        "\n",
        "\n",
        "\n"
      ],
      "metadata": {
        "id": "ZrxVaUj-hHfC"
      }
    },
    {
      "cell_type": "markdown",
      "source": [
        "# ***Let's Begin !***"
      ],
      "metadata": {
        "id": "O_i_v8NEhb9l"
      }
    },
    {
      "cell_type": "markdown",
      "source": [
        "## ***1. Know Your Data***"
      ],
      "metadata": {
        "id": "HhfV-JJviCcP"
      }
    },
    {
      "cell_type": "markdown",
      "source": [
        "### Import Libraries"
      ],
      "metadata": {
        "id": "Y3lxredqlCYt"
      }
    },
    {
      "cell_type": "code",
      "source": [
        "#import libraries\n",
        "import pandas as pd\n",
        "import numpy as np\n",
        "import matplotlib.pyplot as plt\n",
        "import seaborn as sns"
      ],
      "metadata": {
        "id": "YOUy99EUFXfi"
      },
      "execution_count": null,
      "outputs": []
    },
    {
      "cell_type": "markdown",
      "source": [
        "### Dataset Loading"
      ],
      "metadata": {
        "id": "3RnN4peoiCZX"
      }
    },
    {
      "cell_type": "code",
      "source": [
        "# Load Dataset\n",
        "df = pd.read_csv('/content/netflix.csv')"
      ],
      "metadata": {
        "id": "4CkvbW_SlZ_R"
      },
      "execution_count": null,
      "outputs": []
    },
    {
      "cell_type": "markdown",
      "source": [
        "### Dataset First View"
      ],
      "metadata": {
        "id": "x71ZqKXriCWQ"
      }
    },
    {
      "cell_type": "code",
      "source": [
        "# Dataset First Look\n",
        "df.head()"
      ],
      "metadata": {
        "id": "LWNFOSvLl09H"
      },
      "execution_count": null,
      "outputs": []
    },
    {
      "cell_type": "markdown",
      "source": [
        "### Dataset Rows & Columns count"
      ],
      "metadata": {
        "id": "7hBIi_osiCS2"
      }
    },
    {
      "cell_type": "code",
      "source": [
        "# Dataset Rows & Columns count\n",
        "df.shape"
      ],
      "metadata": {
        "id": "Kllu7SJgmLij"
      },
      "execution_count": null,
      "outputs": []
    },
    {
      "cell_type": "markdown",
      "source": [
        "### Dataset Information"
      ],
      "metadata": {
        "id": "JlHwYmJAmNHm"
      }
    },
    {
      "cell_type": "code",
      "source": [
        "# Dataset info\n",
        "df.info()"
      ],
      "metadata": {
        "id": "vMx5ejO2GDr-"
      },
      "execution_count": null,
      "outputs": []
    },
    {
      "cell_type": "markdown",
      "source": [
        "#### Duplicate Values"
      ],
      "metadata": {
        "id": "35m5QtbWiB9F"
      }
    },
    {
      "cell_type": "code",
      "source": [
        "# Dataset Duplicate Value Count\n",
        "df.duplicated().sum()"
      ],
      "metadata": {
        "id": "1sLdpKYkmox0"
      },
      "execution_count": null,
      "outputs": []
    },
    {
      "cell_type": "markdown",
      "source": [
        "#### Missing Values/Null Values"
      ],
      "metadata": {
        "id": "PoPl-ycgm1ru"
      }
    },
    {
      "cell_type": "code",
      "source": [
        "# Visualizing the missing values\n",
        "df.isnull().sum()\n",
        "df.release_year = df.release_year.astype('int')"
      ],
      "metadata": {
        "id": "3q5wnI3om9sJ"
      },
      "execution_count": null,
      "outputs": []
    },
    {
      "cell_type": "markdown",
      "source": [
        "### What did you know about your dataset?"
      ],
      "metadata": {
        "id": "H0kj-8xxnORC"
      }
    },
    {
      "cell_type": "markdown",
      "source": [
        "After exploring the Netflix Movies and TV Shows dataset, several key observations and insights were uncovered:\n",
        "\n",
        "Content Type Distribution:\n",
        "The dataset includes two main types of content: Movies and TV Shows. Movies make up the majority, indicating Netflix's strong focus on film content, although TV Shows still represent a significant portion.\n",
        "\n",
        "Genre Variety:\n",
        "The dataset shows a wide range of genres, including Drama, Comedy, Action, Romance, and Documentaries. Drama is the most common genre, which aligns with global viewing trends.\n",
        "\n",
        "Country Representation:\n",
        "Content originates from many countries, but the United States, India, and the United Kingdom dominate. However, there's a growing presence of international content, reflecting Netflix’s push for global expansion.\n",
        "\n",
        "Date and Release Trends:\n",
        "Most content was added to Netflix between 2017 and 2021, showing aggressive catalog growth during those years. Older release years are common, but recent titles are prioritized.\n",
        "\n",
        "Duration Differences:\n",
        "Movies list durations in minutes, while TV Shows use the number of seasons. This structural difference is important for clustering and modeling.\n",
        "\n",
        "Ratings and Audience Targeting:\n",
        "The dataset includes ratings like TV-MA, PG, and R, suggesting Netflix targets a broad range of age groups, with a strong tilt toward mature audiences.\n",
        "\n",
        "Missing Values:\n",
        "Some fields (like cast, country, or date added) have missing data, which would require imputation or cleaning for accurate analysis.\n",
        "\n",
        "Clustering Column Present:\n",
        "A column labeled “cluster” or similar suggests clustering has already been applied, possibly based on features like description, genre, or duration.\n",
        "\n",
        "Textual Data:\n",
        "Descriptions provide valuable information for NLP-based analysis and clustering. Using techniques like TF-IDF, these can reveal thematic similarities between titles.\n",
        "\n",
        "Skew in Data:\n",
        "A noticeable skew exists toward certain countries, genres, and rating types. This suggests potential content bias or strategic acquisition preferences.\n",
        "\n"
      ],
      "metadata": {
        "id": "gfoNAAC-nUe_"
      }
    },
    {
      "cell_type": "markdown",
      "source": [
        "## ***2. Understanding Your Variables***"
      ],
      "metadata": {
        "id": "nA9Y7ga8ng1Z"
      }
    },
    {
      "cell_type": "code",
      "source": [
        "# Dataset Columns\n",
        "df.columns"
      ],
      "metadata": {
        "id": "j7xfkqrt5Ag5"
      },
      "execution_count": null,
      "outputs": []
    },
    {
      "cell_type": "code",
      "source": [
        "# Dataset Describe\n",
        "df.describe()"
      ],
      "metadata": {
        "id": "DnOaZdaE5Q5t"
      },
      "execution_count": null,
      "outputs": []
    },
    {
      "cell_type": "markdown",
      "source": [
        "### Variables Description"
      ],
      "metadata": {
        "id": "PBTbrJXOngz2"
      }
    },
    {
      "cell_type": "markdown",
      "source": [
        "Title – Name of the show or movie\n",
        "\n",
        "Type – Movie or TV Show\n",
        "\n",
        "Genre/Category – Classification of the content (e.g., Drama, Comedy)\n",
        "\n",
        "Description – Textual synopsis of the title\n",
        "\n",
        "Cast – Main actors\n",
        "\n",
        "Country – Country of origin\n",
        "\n",
        "Date Added – When it was added to Netflix\n",
        "\n",
        "Release Year – Year it was produced or released\n",
        "\n",
        "Duration – Length of the content (in minutes or seasons)\n",
        "\n",
        "Rating – Content rating (e.g., TV-MA, PG-13)\n",
        "\n",
        "Cluster Label – If clustering has already been applied (optional)"
      ],
      "metadata": {
        "id": "aJV4KIxSnxay"
      }
    },
    {
      "cell_type": "markdown",
      "source": [
        "### Check Unique Values for each variable."
      ],
      "metadata": {
        "id": "u3PMJOP6ngxN"
      }
    },
    {
      "cell_type": "code",
      "source": [
        "# Check Unique Values for each variable.\n",
        "unique_counts = df.nunique().sort_values(ascending=False)\n",
        "print(\"Unique values per column:\\n\")\n",
        "print(unique_counts)"
      ],
      "metadata": {
        "id": "zms12Yq5n-jE"
      },
      "execution_count": null,
      "outputs": []
    },
    {
      "cell_type": "markdown",
      "source": [
        "## 3. ***Data Wrangling***"
      ],
      "metadata": {
        "id": "dauF4eBmngu3"
      }
    },
    {
      "cell_type": "markdown",
      "source": [
        "### Data Wrangling Code"
      ],
      "metadata": {
        "id": "bKJF3rekwFvQ"
      }
    },
    {
      "cell_type": "code",
      "source": [
        "# Fill missing 'country' and 'rating' with 'Unknown'\n",
        "df['country'].fillna('Unknown', inplace=True)\n",
        "df['rating'].fillna('Not Rated', inplace=True)\n",
        "\n",
        "# Drop rows with missing 'title' or 'description' if needed\n",
        "df.dropna(subset=['title', 'description'], inplace=True)\n",
        "\n",
        "# Separate duration into numeric values\n",
        "df['duration_int'] = df['duration'].str.extract('(\\d+)').astype(float)\n",
        "df['duration_type'] = df['duration'].str.extract('([a-zA-Z]+)').astype(str)\n",
        "\n",
        "df['date_added'] = pd.to_datetime(df['date_added'], errors='coerce')\n",
        "df['year_added'] = df['date_added'].dt.year\n",
        "df['month_added'] = df['date_added'].dt.month_name()\n",
        "df['duration_int'] = df['duration'].str.extract('(\\d+)').astype(float)\n",
        "df['duration_type'] = df['duration'].str.extract('([a-zA-Z]+)')"
      ],
      "metadata": {
        "id": "wk-9a2fpoLcV"
      },
      "execution_count": null,
      "outputs": []
    },
    {
      "cell_type": "markdown",
      "source": [
        "### What all manipulations have you done and insights you found?"
      ],
      "metadata": {
        "id": "MSa1f5Uengrz"
      }
    },
    {
      "cell_type": "markdown",
      "source": [
        "Answer Here."
      ],
      "metadata": {
        "id": "LbyXE7I1olp8"
      }
    },
    {
      "cell_type": "markdown",
      "source": [
        "## ***4. Data Vizualization, Storytelling & Experimenting with charts : Understand the relationships between variables***"
      ],
      "metadata": {
        "id": "GF8Ens_Soomf"
      }
    },
    {
      "cell_type": "markdown",
      "source": [
        "#### Chart - 1"
      ],
      "metadata": {
        "id": "0wOQAZs5pc--"
      }
    },
    {
      "cell_type": "code",
      "source": [
        "plt.figure(figsize=(6, 4))\n",
        "chart = sns.countplot(x='type', data=df, palette='Set2')\n",
        "plt.title('Distribution of Content Type')\n",
        "plt.xlabel('Type')\n",
        "plt.ylabel('Count')\n",
        "plt.tight_layout()"
      ],
      "metadata": {
        "id": "7v_ESjsspbW7"
      },
      "execution_count": null,
      "outputs": []
    },
    {
      "cell_type": "markdown",
      "source": [
        "##### 1. Why did you pick the specific chart?"
      ],
      "metadata": {
        "id": "K5QZ13OEpz2H"
      }
    },
    {
      "cell_type": "markdown",
      "source": [
        "Bar chart is suitable for showing the frequency of categorical variables"
      ],
      "metadata": {
        "id": "XESiWehPqBRc"
      }
    },
    {
      "cell_type": "markdown",
      "source": [
        "##### 2. What is/are the insight(s) found from the chart?"
      ],
      "metadata": {
        "id": "lQ7QKXXCp7Bj"
      }
    },
    {
      "cell_type": "markdown",
      "source": [
        "The dataset contains more Movies than TV Shows."
      ],
      "metadata": {
        "id": "C_j1G7yiqdRP"
      }
    },
    {
      "cell_type": "markdown",
      "source": [
        "##### 3. Will the gained insights help creating a positive business impact?\n",
        "Are there any insights that lead to negative growth? Justify with specific reason."
      ],
      "metadata": {
        "id": "448CDAPjqfQr"
      }
    },
    {
      "cell_type": "markdown",
      "source": [
        "Yes, knowing what type dominates the platform helps content strategy.\n",
        "If TV Shows are underrepresented, it might indicate an area to invest in or improve."
      ],
      "metadata": {
        "id": "3cspy4FjqxJW"
      }
    },
    {
      "cell_type": "markdown",
      "source": [
        "#### Chart - 2"
      ],
      "metadata": {
        "id": "KSlN3yHqYklG"
      }
    },
    {
      "cell_type": "code",
      "source": [
        "# Chart - 2 visualization code\n",
        "top_countries = df['country'].value_counts().head(10)\n",
        "plt.figure(figsize=(8, 5))\n",
        "sns.barplot(x=top_countries.values, y=top_countries.index, palette='coolwarm')\n",
        "plt.title('Top 10 Countries by Content Count')\n",
        "plt.xlabel('Count')\n",
        "plt.ylabel('Country')\n",
        "plt.tight_layout()"
      ],
      "metadata": {
        "id": "R4YgtaqtYklH"
      },
      "execution_count": null,
      "outputs": []
    },
    {
      "cell_type": "markdown",
      "source": [
        "##### 1. Why did you pick the specific chart?"
      ],
      "metadata": {
        "id": "t6dVpIINYklI"
      }
    },
    {
      "cell_type": "markdown",
      "source": [
        "Horizontal bar chart is effective to display categorical frequency with long labels like country names"
      ],
      "metadata": {
        "id": "5aaW0BYyYklI"
      }
    },
    {
      "cell_type": "markdown",
      "source": [
        "##### 2. What is/are the insight(s) found from the chart?"
      ],
      "metadata": {
        "id": "ijmpgYnKYklI"
      }
    },
    {
      "cell_type": "markdown",
      "source": [
        "The United States dominates the Netflix content library, followed by India and the UK."
      ],
      "metadata": {
        "id": "PSx9atu2YklI"
      }
    },
    {
      "cell_type": "markdown",
      "source": [
        "##### 3. Will the gained insights help creating a positive business impact?\n",
        "Are there any insights that lead to negative growth? Justify with specific reason."
      ],
      "metadata": {
        "id": "-JiQyfWJYklI"
      }
    },
    {
      "cell_type": "markdown",
      "source": [
        "Yes, this insight guides regional content licensing.\n",
        "A gap in countries with growing user bases (e.g., Korea) may reflect negative growth or missed opportunities."
      ],
      "metadata": {
        "id": "BcBbebzrYklV"
      }
    },
    {
      "cell_type": "markdown",
      "source": [
        "#### Chart - 3"
      ],
      "metadata": {
        "id": "EM7whBJCYoAo"
      }
    },
    {
      "cell_type": "code",
      "source": [
        "# Chart - 3 visualization code\n",
        "content_year = df['year_added'].value_counts().sort_index()\n",
        "plt.figure(figsize=(10, 5))\n",
        "sns.lineplot(x=content_year.index, y=content_year.values, marker='o')\n",
        "plt.title('Content Added Per Year')\n",
        "plt.xlabel('Year Added')\n",
        "plt.ylabel('Number of Titles')\n",
        "plt.tight_layout()"
      ],
      "metadata": {
        "id": "t6GMdE67YoAp"
      },
      "execution_count": null,
      "outputs": []
    },
    {
      "cell_type": "markdown",
      "source": [
        "##### 1. Why did you pick the specific chart?"
      ],
      "metadata": {
        "id": "fge-S5ZAYoAp"
      }
    },
    {
      "cell_type": "markdown",
      "source": [
        "Line chart shows temporal trends in content additions effectively."
      ],
      "metadata": {
        "id": "5dBItgRVYoAp"
      }
    },
    {
      "cell_type": "markdown",
      "source": [
        "##### 2. What is/are the insight(s) found from the chart?"
      ],
      "metadata": {
        "id": "85gYPyotYoAp"
      }
    },
    {
      "cell_type": "markdown",
      "source": [
        "There is a sharp increase in content additions around 2018–2020, with a slight drop in 2021.\n",
        "\n"
      ],
      "metadata": {
        "id": "4jstXR6OYoAp"
      }
    },
    {
      "cell_type": "markdown",
      "source": [
        "##### 3. Will the gained insights help creating a positive business impact?\n",
        "Are there any insights that lead to negative growth? Justify with specific reason."
      ],
      "metadata": {
        "id": "RoGjAbkUYoAp"
      }
    },
    {
      "cell_type": "markdown",
      "source": [
        "Understanding peak periods helps plan release strategies.\n",
        "A post-2020 drop may indicate negative trends, possibly due to pandemic-related delays.\n",
        "\n"
      ],
      "metadata": {
        "id": "zfJ8IqMcYoAp"
      }
    },
    {
      "cell_type": "markdown",
      "source": [
        "#### Chart - 4"
      ],
      "metadata": {
        "id": "4Of9eVA-YrdM"
      }
    },
    {
      "cell_type": "code",
      "source": [
        "# Chart - 4 visualization code\n",
        "from collections import Counter\n",
        "all_genres = sum([x.split(', ') for x in df['listed_in'].dropna()], [])\n",
        "genre_count = Counter(all_genres).most_common(10)\n",
        "genres, counts = zip(*genre_count)\n",
        "plt.figure(figsize=(8, 5))\n",
        "sns.barplot(x=list(counts), y=list(genres), palette='viridis')\n",
        "plt.title('Top 10 Most Frequent Genres')\n",
        "plt.xlabel('Count')\n",
        "plt.ylabel('Genre')\n",
        "plt.tight_layout()"
      ],
      "metadata": {
        "id": "irlUoxc8YrdO"
      },
      "execution_count": null,
      "outputs": []
    },
    {
      "cell_type": "markdown",
      "source": [
        "##### 1. Why did you pick the specific chart?"
      ],
      "metadata": {
        "id": "iky9q4vBYrdO"
      }
    },
    {
      "cell_type": "markdown",
      "source": [
        "Bar chart is ideal for showing the most popular genres from a categorical breakdown."
      ],
      "metadata": {
        "id": "aJRCwT6DYrdO"
      }
    },
    {
      "cell_type": "markdown",
      "source": [
        "##### 2. What is/are the insight(s) found from the chart?"
      ],
      "metadata": {
        "id": "F6T5p64dYrdO"
      }
    },
    {
      "cell_type": "markdown",
      "source": [
        "The most frequent genres are Dramas, International Movies, and Comedies."
      ],
      "metadata": {
        "id": "Xx8WAJvtYrdO"
      }
    },
    {
      "cell_type": "markdown",
      "source": [
        "##### 3. Will the gained insights help creating a positive business impact?\n",
        "Are there any insights that lead to negative growth? Justify with specific reason."
      ],
      "metadata": {
        "id": "y-Ehk30pYrdP"
      }
    },
    {
      "cell_type": "markdown",
      "source": [
        "Helps in understanding what genres users prefer.\n",
        "Underrepresented genres may signal content gaps or lower viewer interest.\n",
        "\n"
      ],
      "metadata": {
        "id": "jLNxxz7MYrdP"
      }
    },
    {
      "cell_type": "markdown",
      "source": [
        "#### Chart - 5"
      ],
      "metadata": {
        "id": "bamQiAODYuh1"
      }
    },
    {
      "cell_type": "code",
      "source": [
        "# Chart - 5 visualization code\n",
        "plt.figure(figsize=(10, 5))\n",
        "sns.countplot(data=df, x='rating', hue='type', order=df['rating'].value_counts().index, palette='Set3')\n",
        "plt.xticks(rotation=45)\n",
        "plt.title('Rating Distribution by Type')\n",
        "plt.tight_layout()"
      ],
      "metadata": {
        "id": "TIJwrbroYuh3"
      },
      "execution_count": null,
      "outputs": []
    },
    {
      "cell_type": "markdown",
      "source": [
        "##### 1. Why did you pick the specific chart?"
      ],
      "metadata": {
        "id": "QHF8YVU7Yuh3"
      }
    },
    {
      "cell_type": "markdown",
      "source": [
        "Grouped bar chart helps compare categorical distributions across different groups (Movie vs TV Show)."
      ],
      "metadata": {
        "id": "dcxuIMRPYuh3"
      }
    },
    {
      "cell_type": "markdown",
      "source": [
        "##### 2. What is/are the insight(s) found from the chart?"
      ],
      "metadata": {
        "id": "GwzvFGzlYuh3"
      }
    },
    {
      "cell_type": "markdown",
      "source": [
        "Movies dominate most rating categories. TV Shows are more frequent in TV-MA and TV-14 ratings."
      ],
      "metadata": {
        "id": "uyqkiB8YYuh3"
      }
    },
    {
      "cell_type": "markdown",
      "source": [
        "##### 3. Will the gained insights help creating a positive business impact?\n",
        "Are there any insights that lead to negative growth? Justify with specific reason."
      ],
      "metadata": {
        "id": "qYpmQ266Yuh3"
      }
    },
    {
      "cell_type": "markdown",
      "source": [
        "This helps target specific age-rated content to audience segments. If one type is limited in a rating group, it may affect content reach."
      ],
      "metadata": {
        "id": "_WtzZ_hCYuh4"
      }
    },
    {
      "cell_type": "markdown",
      "source": [
        "#### Chart - 6"
      ],
      "metadata": {
        "id": "OH-pJp9IphqM"
      }
    },
    {
      "cell_type": "code",
      "source": [
        "# Chart - 6 visualization code\n",
        "plt.figure(figsize=(8, 5))\n",
        "sns.boxplot(data=df[df['duration_int'].notna()], x='type', y='duration_int', palette='pastel')\n",
        "plt.title('Duration Distribution by Type')\n",
        "plt.ylabel('Duration (Minutes / Seasons)')\n",
        "plt.tight_layout()"
      ],
      "metadata": {
        "id": "kuRf4wtuphqN"
      },
      "execution_count": null,
      "outputs": []
    },
    {
      "cell_type": "markdown",
      "source": [
        "##### 1. Why did you pick the specific chart?"
      ],
      "metadata": {
        "id": "bbFf2-_FphqN"
      }
    },
    {
      "cell_type": "markdown",
      "source": [
        "Boxplot is effective to show spread and outliers of numerical data across categories."
      ],
      "metadata": {
        "id": "loh7H2nzphqN"
      }
    },
    {
      "cell_type": "markdown",
      "source": [
        "##### 2. What is/are the insight(s) found from the chart?"
      ],
      "metadata": {
        "id": "_ouA3fa0phqN"
      }
    },
    {
      "cell_type": "markdown",
      "source": [
        "Movies have a wider spread in duration while TV Shows mostly cluster around fewer seasons."
      ],
      "metadata": {
        "id": "VECbqPI7phqN"
      }
    },
    {
      "cell_type": "markdown",
      "source": [
        "##### 3. Will the gained insights help creating a positive business impact?\n",
        "Are there any insights that lead to negative growth? Justify with specific reason."
      ],
      "metadata": {
        "id": "Seke61FWphqN"
      }
    },
    {
      "cell_type": "markdown",
      "source": [
        "Useful to evaluate content length strategy. Shorter content might cater to mobile users or casual viewers."
      ],
      "metadata": {
        "id": "DW4_bGpfphqN"
      }
    },
    {
      "cell_type": "markdown",
      "source": [
        "#### Chart - 7"
      ],
      "metadata": {
        "id": "PIIx-8_IphqN"
      }
    },
    {
      "cell_type": "code",
      "source": [
        "# Chart - 7 visualization code\n",
        "monthly_order = ['January','February','March','April','May','June','July','August','September','October','November','December']\n",
        "month_data = df['month_added'].value_counts().reindex(monthly_order)\n",
        "plt.figure(figsize=(10, 5))\n",
        "sns.barplot(x=month_data.index, y=month_data.values, palette='Blues')\n",
        "plt.title('Monthly Content Addition Trend')\n",
        "plt.xlabel('Month')\n",
        "plt.ylabel('Number of Titles Added')\n",
        "plt.xticks(rotation=45)\n",
        "plt.tight_layout()"
      ],
      "metadata": {
        "id": "lqAIGUfyphqO"
      },
      "execution_count": null,
      "outputs": []
    },
    {
      "cell_type": "markdown",
      "source": [
        "##### 1. Why did you pick the specific chart?"
      ],
      "metadata": {
        "id": "t27r6nlMphqO"
      }
    },
    {
      "cell_type": "markdown",
      "source": [
        "Bar chart helps track monthly variations in new content release."
      ],
      "metadata": {
        "id": "iv6ro40sphqO"
      }
    },
    {
      "cell_type": "markdown",
      "source": [
        "##### 2. What is/are the insight(s) found from the chart?"
      ],
      "metadata": {
        "id": "r2jJGEOYphqO"
      }
    },
    {
      "cell_type": "markdown",
      "source": [
        "Most content is added during July and October, possibly aligning with global holidays or strategic quarters."
      ],
      "metadata": {
        "id": "Po6ZPi4hphqO"
      }
    },
    {
      "cell_type": "markdown",
      "source": [
        "##### 3. Will the gained insights help creating a positive business impact?\n",
        "Are there any insights that lead to negative growth? Justify with specific reason."
      ],
      "metadata": {
        "id": "b0JNsNcRphqO"
      }
    },
    {
      "cell_type": "markdown",
      "source": [
        "Helps marketing teams schedule campaigns. A lack of consistency might signal operational or seasonal delays."
      ],
      "metadata": {
        "id": "xvSq8iUTphqO"
      }
    },
    {
      "cell_type": "markdown",
      "source": [
        "#### Chart - 8"
      ],
      "metadata": {
        "id": "BZR9WyysphqO"
      }
    },
    {
      "cell_type": "code",
      "source": [
        "# Chart - 8 visualization code\n",
        "top_directors = df['director'].value_counts().drop('', errors='ignore').head(10)\n",
        "plt.figure(figsize=(8, 5))\n",
        "sns.barplot(x=top_directors.values, y=top_directors.index, palette='magma')\n",
        "plt.title('Top 10 Directors by Content Count')\n",
        "plt.xlabel('Count')\n",
        "plt.ylabel('Director')\n",
        "plt.tight_layout()"
      ],
      "metadata": {
        "id": "TdPTWpAVphqO"
      },
      "execution_count": null,
      "outputs": []
    },
    {
      "cell_type": "markdown",
      "source": [
        "##### 1. Why did you pick the specific chart?"
      ],
      "metadata": {
        "id": "jj7wYXLtphqO"
      }
    },
    {
      "cell_type": "markdown",
      "source": [
        "Bar chart is effective for identifying key contributors like directors with the most content."
      ],
      "metadata": {
        "id": "Ob8u6rCTphqO"
      }
    },
    {
      "cell_type": "markdown",
      "source": [
        "##### 2. What is/are the insight(s) found from the chart?"
      ],
      "metadata": {
        "id": "eZrbJ2SmphqO"
      }
    },
    {
      "cell_type": "markdown",
      "source": [
        "f\"{top_directors.index[0]} is the most featured director on the platform."
      ],
      "metadata": {
        "id": "mZtgC_hjphqO"
      }
    },
    {
      "cell_type": "markdown",
      "source": [
        "##### 3. Will the gained insights help creating a positive business impact?\n",
        "Are there any insights that lead to negative growth? Justify with specific reason."
      ],
      "metadata": {
        "id": "rFu4xreNphqO"
      }
    },
    {
      "cell_type": "markdown",
      "source": [
        "Knowing popular or high-output directors helps maintain partnerships, Lack of diversity in creators may affect innovation."
      ],
      "metadata": {
        "id": "ey_0qi68phqO"
      }
    },
    {
      "cell_type": "markdown",
      "source": [
        "#### Chart - 9"
      ],
      "metadata": {
        "id": "YJ55k-q6phqO"
      }
    },
    {
      "cell_type": "code",
      "source": [
        "# Chart - 9 visualization code\n",
        "heatmap_data = df.pivot_table(index='rating', columns='type', aggfunc='size', fill_value=0)\n",
        "plt.figure(figsize=(10, 6))\n",
        "sns.heatmap(heatmap_data, annot=True, fmt='d', cmap='YlGnBu')\n",
        "plt.title('Content Distribution by Rating and Type')\n",
        "plt.tight_layout()"
      ],
      "metadata": {
        "id": "B2aS4O1ophqO"
      },
      "execution_count": null,
      "outputs": []
    },
    {
      "cell_type": "markdown",
      "source": [
        "##### 1. Why did you pick the specific chart?"
      ],
      "metadata": {
        "id": "gCFgpxoyphqP"
      }
    },
    {
      "cell_type": "markdown",
      "source": [
        "Heatmaps are great for summarizing three variables at once: rating, type, and count."
      ],
      "metadata": {
        "id": "TVxDimi2phqP"
      }
    },
    {
      "cell_type": "markdown",
      "source": [
        "##### 2. What is/are the insight(s) found from the chart?"
      ],
      "metadata": {
        "id": "OVtJsKN_phqQ"
      }
    },
    {
      "cell_type": "markdown",
      "source": [
        "TV-MA rating has high frequency in both Movies and TV Shows. Some ratings are dominated by Movies."
      ],
      "metadata": {
        "id": "ngGi97qjphqQ"
      }
    },
    {
      "cell_type": "markdown",
      "source": [
        "##### 3. Will the gained insights help creating a positive business impact?\n",
        "Are there any insights that lead to negative growth? Justify with specific reason."
      ],
      "metadata": {
        "id": "lssrdh5qphqQ"
      }
    },
    {
      "cell_type": "markdown",
      "source": [
        "Allows balancing content rating types. Over-concentration in mature content might alienate family or youth audiences."
      ],
      "metadata": {
        "id": "tBpY5ekJphqQ"
      }
    },
    {
      "cell_type": "markdown",
      "source": [
        "## **5. Solution to Business Objective**"
      ],
      "metadata": {
        "id": "JcMwzZxoAimU"
      }
    },
    {
      "cell_type": "markdown",
      "source": [
        "#### What do you suggest the client to achieve Business Objective ?"
      ],
      "metadata": {
        "id": "8G2x9gOozGDZ"
      }
    },
    {
      "cell_type": "markdown",
      "source": [
        "Firstly, it is important to optimize the content mix in terms of type and genre. The dataset indicates a strong dominance of movies over TV shows, and a concentration of genres such as Drama and International Movies. To attract and retain a broader audience, Netflix should consider increasing investment in TV shows and exploring underrepresented or emerging genres like documentaries and anime. This would help maintain viewer engagement and cater to diverse content preferences across regions.\n",
        "\n",
        "Secondly, there is a clear concentration of content originating from the United States, with India and the UK following. This suggests an opportunity to localize content further, particularly in growing markets like South Korea, Latin America, and Africa. Collaborating with regional creators and producing culturally relevant content can strengthen Netflix’s market position and drive subscriber growth in these areas.\n",
        "\n",
        "In terms of content release strategy, the data shows that most content is added in July and October. These periods likely align with strategic marketing quarters or global holidays. Netflix should continue analyzing these temporal patterns and plan high-impact content drops around key viewing periods to maximize user engagement.\n",
        "\n",
        "Audience segmentation by content rating reveals that mature-rated content (TV-MA and TV-14) is predominant. While this caters to adult viewers, there is a potential gap in family-friendly and youth-targeted content. By expanding offerings in the TV-G, PG, or PG-13 categories, Netflix can better serve households and younger audiences, increasing its appeal as a family streaming platform.\n",
        "\n",
        "In terms of content duration, movies show a wide range in length, whereas TV shows tend to have fewer seasons. This suggests that shorter series or limited-run formats could be effective, especially for mobile-first or casual viewers. Netflix can leverage these insights to produce content that matches modern consumption patterns.\n",
        "\n",
        "Additionally, the data indicates that a few directors contribute a significant volume of content. While maintaining strong relationships with high-output creators is beneficial, there is value in diversifying the pool of directors to introduce new voices and innovative storytelling styles.\n",
        "\n",
        "Finally, the dataset highlights a decline in content additions after 2020. This may be due to pandemic-related production delays or a shift in strategic priorities. It is important to monitor this trend closely and ensure that the platform continues to offer a steady stream of fresh, diverse content to prevent subscriber attrition.\n",
        "\n",
        "Overall, by making data-informed decisions on content strategy, regional focus, release timing, and audience segmentation, Netflix can enhance user satisfaction, improve global reach, and support sustainable business growth.\n",
        "\n",
        "\n",
        "\n",
        "\n",
        "\n",
        "\n",
        "\n",
        "\n"
      ],
      "metadata": {
        "id": "pASKb0qOza21"
      }
    },
    {
      "cell_type": "markdown",
      "source": [
        "# **Conclusion**"
      ],
      "metadata": {
        "id": "gCX9965dhzqZ"
      }
    },
    {
      "cell_type": "markdown",
      "source": [
        "This exploratory data analysis (EDA) of the Netflix Movies and TV Shows dataset provided valuable insights into the platform’s content distribution, trends, and potential areas for strategic improvement. The analysis revealed that Movies significantly outnumber TV Shows, with Drama, International Movies, and Comedies being the most frequent genres. Content is predominantly produced in the United States, with India and the UK also contributing notably, indicating a need for greater regional diversity to meet global audience demand.\n",
        "\n",
        "Temporal trends showed a surge in content additions during 2018–2020, followed by a slight decline post-2020, possibly due to external disruptions like the COVID-19 pandemic. Monthly addition patterns revealed strategic content releases in July and October, likely aligned with global viewing behavior and marketing strategies. Ratings analysis showed a high concentration in mature categories (TV-MA and TV-14), suggesting an opportunity to expand family-friendly content.\n",
        "\n",
        "Furthermore, content duration analysis highlighted variability in movie lengths and the consistent structure of TV Shows, pointing to a growing preference for shorter, binge-worthy content formats. The presence of a few highly prolific directors also emphasized the value of both maintaining strong creative partnerships and encouraging diversity among content creators.\n",
        "\n",
        "Overall, this EDA project demonstrates the power of data in understanding content strategy and user engagement patterns. These insights can support Netflix in enhancing its content portfolio, optimizing regional offerings, and aligning content planning with audience needs, ultimately contributing to improved user satisfaction and business growth."
      ],
      "metadata": {
        "id": "Fjb1IsQkh3yE"
      }
    }
  ]
}